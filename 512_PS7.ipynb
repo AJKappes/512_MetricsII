{
 "cells": [
  {
   "cell_type": "markdown",
   "metadata": {},
   "source": [
    "Alex kappes <br>\n",
    "Problem Set 7 <br>\n",
    "EconS 512"
   ]
  },
  {
   "cell_type": "markdown",
   "metadata": {},
   "source": [
    "**(1)** We can try this two ways. From the provided linear model\n",
    "\n",
    "\\begin{equation*}\n",
    "Y_i = \\beta_0 +B_1T_i + \\mu_i + \\xi_i\n",
    "\\end{equation*}\n",
    "\n",
    "the estimator for $\\boldsymbol{\\beta}$ is \n",
    "\\begin{equation*}\n",
    "\\hat{\\boldsymbol{\\beta}} = \\left(\\mathbf{T}'\\mathbf{T}\\right)^{-1}\\mathbf{T}'\\mathbf{Y} = \\left(\\mathbf{T}'\\mathbf{T}\\right)^{-1}\\mathbf{T}'\\left(\\mathbf{T}\\boldsymbol{\\beta} + \\boldsymbol{\\mu} + \\boldsymbol{\\xi}\\right).\n",
    "\\end{equation*}\n",
    "\n",
    "Given the statistical information provided in the question, it follows that\n",
    "\n",
    "\\begin{align*}\n",
    "\\text{E}[\\hat{\\boldsymbol{\\beta}}] &= \\boldsymbol{\\beta} + \\text{E}[\\left(\\mathbf{T}'\\mathbf{T}\\right)^{-1}\\mathbf{T}'\\ \\big\\vert\\ \\boldsymbol{\\mu}] + \\text{E}[\\left(\\mathbf{T}'\\mathbf{T}\\right)^{-1}\\mathbf{T}']\\text{E}[\\boldsymbol{\\xi}] \\\\ \n",
    "&\\Rightarrow \\boldsymbol{\\beta} + \\text{E}[\\left(\\mathbf{T}'\\mathbf{T}\\right)^{-1}\\mathbf{T}'\\ \\big\\vert\\ \\boldsymbol{\\mu}] \\\\\n",
    "&\\Rightarrow \\boldsymbol{\\beta} + Pr(T_i = 1\\ \\big\\vert\\ X_i < x^*, \\mu_i = 0) + Pr(T_i = 1\\ \\big\\vert\\ X_i \\geq x^*, \\mu_i = 0) + Pr(T_i = 1\\ \\big\\vert\\ X_i < x^*, \\mu_i = 1) + Pr(T_i = 1\\ \\big\\vert\\ X_i  \\geq x^*, \\mu_i = 1) \\\\\n",
    "&= \\boldsymbol{\\beta} + \\underbrace{(\\frac{1}{2}p_0 + \\frac{1}{2}p_1)}_{\\text{bias}},\n",
    "\\end{align*}\n",
    "\n",
    "where the bias persists in the probability limit, providing the expectation of $\\hat{\\beta}_1 \\in \\hat{\\boldsymbol{\\beta}}$ above. I do not think it is possible to get a consistent estimate of $\\beta_1$ given that the bias persists in the limit, thus not $\\rightarrow 0$ as $n \\rightarrow \\infty$. Should the estimator be unbiased, and $Cov[\\boldsymbol{\\beta}] \\rightarrow 0$, the estimator would then be considered consistent. To identify the treatment, we can use the kernel estimator procedures below, or any of the other valid regression discontinuity methodologies."
   ]
  },
  {
   "cell_type": "markdown",
   "metadata": {},
   "source": [
    "**(2)** The following shows artificial data generation and evidence of regression discontinuity in the corresponding scatter plot."
   ]
  },
  {
   "cell_type": "code",
   "execution_count": 10,
   "metadata": {
    "scrolled": false
   },
   "outputs": [
    {
     "data": {
      "text/html": [
       "<iframe id=\"igraph\" scrolling=\"no\" style=\"border:none;\" seamless=\"seamless\" src=\"https://plot.ly/~AJKappes/60.embed\" height=\"525px\" width=\"100%\"></iframe>"
      ],
      "text/plain": [
       "<plotly.tools.PlotlyDisplay object>"
      ]
     },
     "execution_count": 10,
     "metadata": {},
     "output_type": "execute_result"
    }
   ],
   "source": [
    "import numpy as np\n",
    "import pandas as pd\n",
    "from scipy import stats\n",
    "import plotly\n",
    "import plotly.plotly as plt\n",
    "import plotly.graph_objs as go\n",
    "\n",
    "x_vec = stats.uniform.rvs(0, 10, 500)\n",
    "\n",
    "def f1(x):\n",
    "    return np.power(x, 1.5) + stats.norm.rvs(scale=0.5, size=len(x))\n",
    "\n",
    "def f2(x):\n",
    "    return np.log(np.power(x, 9))   + stats.norm.rvs(scale=0.5, size=len(x))\n",
    "\n",
    "y1 = f1(x_vec[x_vec <= 5])\n",
    "y2 = f2(x_vec[x_vec >= 5])\n",
    "\n",
    "fx_trace0 = go.Scatter(\n",
    "    x=x_vec[x_vec <= 5],\n",
    "    y=y1,\n",
    "    mode='markers',\n",
    "    name='f(x1)'\n",
    ")\n",
    "\n",
    "fx_trace1 = go.Scatter(\n",
    "    x=x_vec[x_vec >= 5],\n",
    "    y=y2,\n",
    "    mode='markers',\n",
    "    name='f(x2)'\n",
    ")\n",
    "\n",
    "layout = {'shapes': [{'type': 'line',\n",
    "                          'x0': 5, 'x1': 5,\n",
    "                          'y0': 0, 'y1': 25,\n",
    "                          'line': {'dash': 'dot'}\n",
    "                      }],\n",
    "          }\n",
    "\n",
    "data = [fx_trace0, fx_trace1]\n",
    "mapping = {'data' : data,\n",
    "           'layout': layout}\n",
    "plt.iplot(mapping, filename='kernel_mapping.html')"
   ]
  },
  {
   "cell_type": "code",
   "execution_count": 4,
   "metadata": {},
   "outputs": [],
   "source": [
    "# estimation class\n",
    "class estimate:\n",
    "    def __init__(self, dep, indep):\n",
    "        self.dep = np.asmatrix(dep)\n",
    "        self.indep = np.asmatrix(indep)\n",
    "\n",
    "    def params(self):\n",
    "        return np.linalg.inv(self.indep.T * self.indep) * self.indep.T * self.dep\n",
    "\n",
    "    def pred(self, b):\n",
    "        return self.indep * b"
   ]
  },
  {
   "cell_type": "markdown",
   "metadata": {},
   "source": [
    "Kernel estimates follow. Bandwidths are defined as the epsilon distance $(0.25, 0.75, 1.25)$ from $x^* = 5$."
   ]
  },
  {
   "cell_type": "code",
   "execution_count": 21,
   "metadata": {},
   "outputs": [
    {
     "data": {
      "text/html": [
       "<div>\n",
       "<style scoped>\n",
       "    .dataframe tbody tr th:only-of-type {\n",
       "        vertical-align: middle;\n",
       "    }\n",
       "\n",
       "    .dataframe tbody tr th {\n",
       "        vertical-align: top;\n",
       "    }\n",
       "\n",
       "    .dataframe thead th {\n",
       "        text-align: right;\n",
       "    }\n",
       "</style>\n",
       "<table border=\"1\" class=\"dataframe\">\n",
       "  <thead>\n",
       "    <tr style=\"text-align: right;\">\n",
       "      <th></th>\n",
       "      <th>0.25</th>\n",
       "      <th>0.5</th>\n",
       "      <th>0.75</th>\n",
       "    </tr>\n",
       "  </thead>\n",
       "  <tbody>\n",
       "    <tr>\n",
       "      <th>Kernels</th>\n",
       "      <td>3.143</td>\n",
       "      <td>2.244</td>\n",
       "      <td>1.297</td>\n",
       "    </tr>\n",
       "  </tbody>\n",
       "</table>\n",
       "</div>"
      ],
      "text/plain": [
       "          0.25   0.50   0.75\n",
       "Kernels  3.143  2.244  1.297"
      ]
     },
     "execution_count": 21,
     "metadata": {},
     "output_type": "execute_result"
    }
   ],
   "source": [
    "# kernel estimation\n",
    "eps_dist = [0.25, 0.5, 0.75]\n",
    "x_star = 5\n",
    "\n",
    "d_kern_low = pd.DataFrame()\n",
    "for i in eps_dist:\n",
    "    d_kern_low[i] = np.where((x_vec < x_star) &\n",
    "                             (x_vec >= x_star - i),\n",
    "                             1, 0)\n",
    "\n",
    "d_kern_high = pd.DataFrame()\n",
    "for i in eps_dist:\n",
    "    d_kern_high[i] = np.where((x_vec > x_star) &\n",
    "                              (x_vec <= x_star + i),\n",
    "                              1, 0)\n",
    "\n",
    "kern_l = pd.concat([pd.DataFrame(np.ones(len(x_vec))), d_kern_low], axis=1).rename(columns={0: 'ones'})\n",
    "kern_h = pd.concat([pd.DataFrame(np.ones(len(x_vec))), d_kern_high], axis=1).rename(columns={0: 'ones'})\n",
    "y = pd.concat([pd.DataFrame(y1), pd.DataFrame(y2)]).rename(columns={0: 'y'}\n",
    "                                                          ).reset_index().drop(columns='index')\n",
    "\n",
    "# sample means method for right and left x* limits used to compute kernel estimates\n",
    "def get_kerns(epsilon):\n",
    "    lim_x_right = np.sum(np.multiply(kern_h[epsilon], y['y'])) / np.sum(kern_h[epsilon])\n",
    "    lim_x_left = np.sum(np.multiply(kern_l[epsilon], y['y'])) / np.sum(kern_l[epsilon])\n",
    "    return lim_x_right - lim_x_left\n",
    "\n",
    "kern_df = pd.DataFrame({eps_dist[0]: get_kerns(eps_dist[0]),\n",
    "                        eps_dist[1]: get_kerns(eps_dist[1]),\n",
    "                        eps_dist[2]: get_kerns(eps_dist[2])\n",
    "                        }, index=['Kernels']).round(3)\n",
    "\n",
    "kern_df"
   ]
  },
  {
   "cell_type": "markdown",
   "metadata": {},
   "source": [
    "Local linear regression method follows."
   ]
  },
  {
   "cell_type": "code",
   "execution_count": 22,
   "metadata": {},
   "outputs": [
    {
     "data": {
      "text/html": [
       "<div>\n",
       "<style scoped>\n",
       "    .dataframe tbody tr th:only-of-type {\n",
       "        vertical-align: middle;\n",
       "    }\n",
       "\n",
       "    .dataframe tbody tr th {\n",
       "        vertical-align: top;\n",
       "    }\n",
       "\n",
       "    .dataframe thead th {\n",
       "        text-align: right;\n",
       "    }\n",
       "</style>\n",
       "<table border=\"1\" class=\"dataframe\">\n",
       "  <thead>\n",
       "    <tr style=\"text-align: right;\">\n",
       "      <th></th>\n",
       "      <th>0.25</th>\n",
       "      <th>0.5</th>\n",
       "      <th>0.75</th>\n",
       "    </tr>\n",
       "  </thead>\n",
       "  <tbody>\n",
       "    <tr>\n",
       "      <th>local_lin</th>\n",
       "      <td>34.955</td>\n",
       "      <td>15.477</td>\n",
       "      <td>6.431</td>\n",
       "    </tr>\n",
       "  </tbody>\n",
       "</table>\n",
       "</div>"
      ],
      "text/plain": [
       "             0.25    0.50   0.75\n",
       "local_lin  34.955  15.477  6.431"
      ]
     },
     "execution_count": 22,
     "metadata": {},
     "output_type": "execute_result"
    }
   ],
   "source": [
    "# local linear estimation\n",
    "ones_col = pd.DataFrame({'ones': np.ones(len(y))})\n",
    "\n",
    "X = pd.concat([ones_col, pd.DataFrame(x_vec)], axis=1).rename(columns={0: 'x'})\n",
    "\n",
    "def get_loclin(df, epsilon):\n",
    "    loclist = df[df[epsilon] == 1][epsilon].index.tolist()\n",
    "    loclin_y = y.loc[loclist]\n",
    "    loclin_x_l = X.loc[loclist]\n",
    "    return estimate(loclin_y, loclin_x_l).params()\n",
    "\n",
    "# differencing (a, b) estimators from the right and left of x* \n",
    "loclin_est1 = get_loclin(kern_h, eps_dist[0])[1, 0] - get_loclin(kern_l, eps_dist[0])[1, 0]\n",
    "loclin_est2 = get_loclin(kern_h, eps_dist[1])[1, 0] - get_loclin(kern_l, eps_dist[1])[1, 0]\n",
    "loclin_est3 = get_loclin(kern_h, eps_dist[2])[1, 0] - get_loclin(kern_l, eps_dist[2])[1, 0]\n",
    "\n",
    "loclin_df = pd.DataFrame({eps_dist[0]: loclin_est1,\n",
    "                          eps_dist[1]: loclin_est2,\n",
    "                          eps_dist[2]: loclin_est3\n",
    "                          }, index=['local_lin']).round(3)\n",
    "\n",
    "loclin_df"
   ]
  },
  {
   "cell_type": "markdown",
   "metadata": {},
   "source": [
    "Polynomial (only out to $x^4$) regression follows."
   ]
  },
  {
   "cell_type": "code",
   "execution_count": 23,
   "metadata": {},
   "outputs": [
    {
     "data": {
      "text/html": [
       "<div>\n",
       "<style scoped>\n",
       "    .dataframe tbody tr th:only-of-type {\n",
       "        vertical-align: middle;\n",
       "    }\n",
       "\n",
       "    .dataframe tbody tr th {\n",
       "        vertical-align: top;\n",
       "    }\n",
       "\n",
       "    .dataframe thead th {\n",
       "        text-align: right;\n",
       "    }\n",
       "</style>\n",
       "<table border=\"1\" class=\"dataframe\">\n",
       "  <thead>\n",
       "    <tr style=\"text-align: right;\">\n",
       "      <th></th>\n",
       "      <th>squared</th>\n",
       "      <th>cubed</th>\n",
       "      <th>quartic</th>\n",
       "    </tr>\n",
       "  </thead>\n",
       "  <tbody>\n",
       "    <tr>\n",
       "      <th>poly_treat</th>\n",
       "      <td>2.11</td>\n",
       "      <td>2.184</td>\n",
       "      <td>2.255</td>\n",
       "    </tr>\n",
       "  </tbody>\n",
       "</table>\n",
       "</div>"
      ],
      "text/plain": [
       "            squared  cubed  quartic\n",
       "poly_treat     2.11  2.184    2.255"
      ]
     },
     "execution_count": 23,
     "metadata": {},
     "output_type": "execute_result"
    }
   ],
   "source": [
    "# polynomial reg\n",
    "X['xsq'] = np.power(X['x'], 2)\n",
    "X['xcub'] = np.power(X['x'], 3)\n",
    "X['xquart'] = np.power(X['x'], 4)\n",
    "X['T'] = np.where(X['x'] > 5, 1, 0)\n",
    "\n",
    "pol2_t_param = estimate(y, X[['ones', 'T', 'x', 'xsq']]).params()[1, 0]\n",
    "pol3_t_param = estimate(y, X[['ones', 'T', 'x', 'xsq', 'xcub']]).params()[1, 0]\n",
    "pol4_t_param = estimate(y, X[['ones', 'T', 'x', 'xsq', 'xcub', 'xquart']]).params()[1, 0]\n",
    "\n",
    "poly_df = pd.DataFrame({'squared': pol2_t_param,\n",
    "                        'cubed': pol3_t_param,\n",
    "                        'quartic': pol4_t_param\n",
    "                        }, index=['poly_treat']).round(3)\n",
    "\n",
    "poly_df"
   ]
  },
  {
   "cell_type": "markdown",
   "metadata": {},
   "source": [
    "The kernel estimates show a larger treatment effect for the smallest bandwidth specification, with decreases in effect as bandwidth size increases. Local linear treatment estimates display the same treatment effect progression. Polynomial specification results in a treatment effect that increases alongside bandwidth size. "
   ]
  }
 ],
 "metadata": {
  "kernelspec": {
   "display_name": "Python 3",
   "language": "python",
   "name": "python3"
  },
  "language_info": {
   "codemirror_mode": {
    "name": "ipython",
    "version": 3
   },
   "file_extension": ".py",
   "mimetype": "text/x-python",
   "name": "python",
   "nbconvert_exporter": "python",
   "pygments_lexer": "ipython3",
   "version": "3.6.6"
  },
  "latex_envs": {
   "LaTeX_envs_menu_present": true,
   "autoclose": false,
   "autocomplete": false,
   "bibliofile": "biblio.bib",
   "cite_by": "apalike",
   "current_citInitial": 1,
   "eqLabelWithNumbers": true,
   "eqNumInitial": 1,
   "hotkeys": {
    "equation": "Ctrl-E",
    "itemize": "Ctrl-I"
   },
   "labels_anchors": false,
   "latex_user_defs": false,
   "report_style_numbering": false,
   "user_envs_cfg": false
  }
 },
 "nbformat": 4,
 "nbformat_minor": 2
}

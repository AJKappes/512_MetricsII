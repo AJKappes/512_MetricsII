{
 "cells": [
  {
   "cell_type": "markdown",
   "metadata": {},
   "source": [
    "Alex Kappes <br>\n",
    "Problem Set 3 <br>\n",
    "EconS 512"
   ]
  },
  {
   "cell_type": "markdown",
   "metadata": {},
   "source": [
    "**Problem 1**\n",
    "\n",
    "The data set used for this problem consists of 72 observations on average expenditures ($Y_i$), the age of individual $i$ ($age_i$), and individual $i$'s income ($inc$).\n",
    "\n",
    "For $\\mathbf{X}_1 = [1, age_i]$ and $\\mathbf{X}_2 = [inc_i]\\ \\forall\\ i\\ \\epsilon\\ I$ the estimable model is specified as \n",
    "\n",
    "$$Y_i = X_{1i}'\\beta_1 + X_{2i}'\\beta_2 + u_i.$$"
   ]
  },
  {
   "cell_type": "markdown",
   "metadata": {},
   "source": [
    "**(a)** OLS estimation produces the following paramter results."
   ]
  },
  {
   "cell_type": "code",
   "execution_count": 1,
   "metadata": {},
   "outputs": [
    {
     "name": "stdout",
     "output_type": "stream",
     "text": [
      "const   -19.440\n",
      "age      -0.119\n",
      "inc      83.125\n",
      "dtype: float64\n"
     ]
    }
   ],
   "source": [
    "import numpy as np\n",
    "import pandas as pd\n",
    "import statsmodels.api as sm\n",
    "\n",
    "data1 = pd.read_csv('/home/akappes/WSU/512_MetricsII/PS3_1_511PS6data.csv', header=None)\n",
    "data1 = data1.rename(columns={0: 'avexp',\n",
    "                              1: 'age',\n",
    "                              2: 'ho_bin',\n",
    "                              3: 'inc',\n",
    "                              4: 'incsq'})\n",
    "\n",
    "y = data1['avexp']\n",
    "X1 = sm.add_constant(data1['age'])\n",
    "X2 = sm.add_constant(data1['inc'])\n",
    "X = pd.concat([X1, X2.loc[:, X2.columns != 'const']], axis=1)\n",
    "mod_params = round(sm.OLS(y, X).fit().params, 3)\n",
    "print(mod_params)"
   ]
  },
  {
   "cell_type": "markdown",
   "metadata": {},
   "source": [
    "The estimated parameter for $\\hat{\\beta}_1$ is -0.119 as shown above."
   ]
  },
  {
   "cell_type": "markdown",
   "metadata": {},
   "source": [
    "**(b)** The two-part regression for $\\hat{e}_{Y_i} = Y_i - X_{i1}'\\hat{\\beta}$ and $\\hat{e}_{X_{1i}} = X_{1i} - X_{2i}'\\hat{\\beta}$ to estimate $\\hat{e}_{Y_i} = \\hat{e}_{X_{1i}}\\delta+ v_i$, produces the following $\\delta$ estimate."
   ]
  },
  {
   "cell_type": "code",
   "execution_count": 2,
   "metadata": {},
   "outputs": [
    {
     "name": "stdout",
     "output_type": "stream",
     "text": [
      "const   -0.000\n",
      "delta   -0.119\n",
      "dtype: float64\n"
     ]
    }
   ],
   "source": [
    "res_y_x2 = pd.DataFrame(sm.OLS(y, X2).fit().resid)\n",
    "res_x1_x2 = pd.DataFrame(sm.add_constant(sm.OLS(X1['age'], X2).fit().resid)).rename(columns={0: 'delta'})\n",
    "resy_resx = round(sm.OLS(res_y_x2, res_x1_x2).fit().params, 3)\n",
    "print(resy_resx)"
   ]
  },
  {
   "cell_type": "markdown",
   "metadata": {},
   "source": [
    "The result is $\\hat{\\beta}_1 = \\hat{\\delta} = -0.119$."
   ]
  },
  {
   "cell_type": "markdown",
   "metadata": {},
   "source": [
    "**(C)** The model is now specified as $Y_i = \\hat{e}_{X_{1i}}\\delta + \\upsilon_i$. The test for parameter estimate equality is provided below."
   ]
  },
  {
   "cell_type": "code",
   "execution_count": 3,
   "metadata": {},
   "outputs": [
    {
     "name": "stdout",
     "output_type": "stream",
     "text": [
      "The estimators are equal\n"
     ]
    }
   ],
   "source": [
    "def diff(a, b):\n",
    "    return np.abs(a - b)\n",
    "\n",
    "t1 = round(sm.OLS(res_y_x2, res_x1_x2).fit().params[1], 3)\n",
    "t2 = round(sm.OLS(y, res_x1_x2).fit().params[1], 3)\n",
    "\n",
    "if diff(t1, t2) > 0:\n",
    "    print('The difference in estimators is', diff(t1,t2))\n",
    "else:\n",
    "    print('The estimators are equal')"
   ]
  },
  {
   "cell_type": "markdown",
   "metadata": {},
   "source": [
    "The parameter estimates $\\hat{\\delta}$ produced above for $\\hat{e}_{Y_i} = \\hat{e}_{X_{1i}}\\delta + v_i$ and $Y_i = \\hat{e}_{X_{1i}}\\delta + \\upsilon_i$ are shown to be the same up to three significant digits. \n",
    "\n",
    "Expanding $\\hat{e}_{Y_i} = \\hat{e}_{X_{1i}}\\delta + v_i$ we see that\n",
    "\\begin{equation}\n",
    "\\hat{e}_{Y_i} = \\hat{e}_{X_{1i}}\\delta + v_i \\Longleftrightarrow (Y_i - X_{2i}'\\hat{\\beta}) = (X_{1i} - X_{2i}'\\hat{\\beta})\\delta + v_i,\n",
    "\\tag{1}\n",
    "\\end{equation}\n",
    "\n",
    "and expanding $Y_i = \\hat{e}_{X_{1i}}\\delta + \\upsilon_i$ we see that\n",
    "\\begin{equation}\n",
    "Y_i = \\hat{e}_{X_{1i}}\\delta + \\upsilon_i \\Longleftrightarrow Y_i = (X_{1i} - X_{2i}'\\hat{\\beta})\\delta + \\upsilon_i.\n",
    "\\tag{2}\n",
    "\\end{equation}\n",
    "\n",
    "The OLS estimator for equation (1) is \n",
    "\\begin{equation}\n",
    "\\delta = \\left[(X_{1i} - X_{2i}'\\hat{\\beta})'(X_{1i} - X_{2i}'\\hat{\\beta})\\right]^{-1}(X_{1i} - X_{2i}'\\hat{\\beta})'(Y_i - X_{2i}'\\hat{\\beta}),\n",
    "\\tag{3}\n",
    "\\end{equation}\n",
    "\n",
    "and the OLS estimator for equation (2) is\n",
    "\\begin{equation}\n",
    "\\delta = \\left[(X_{1i} - X_{2i}'\\hat{\\beta})'(X_{1i} - X_{2i}'\\hat{\\beta})\\right]^{-1}(X_{1i} - X_{2i}'\\hat{\\beta})'Y_i.\n",
    "\\tag{4}\n",
    "\\end{equation}\n",
    "\n",
    "Concentrating on the post multiplication in equation (3), if we expand out the parenthesis we will arrive at the term\n",
    "\n",
    "\\begin{equation}\n",
    "(X_{1i}' - (X_{2i}'X_{2i})^{-1}X_{2i}'X_{1i}X_{2i}')Y_i.\n",
    "\\tag{5}\n",
    "\\end{equation}\n",
    "\n",
    "Now looking at the post multiplication in equation (4), expanding out $\\hat{\\beta}$ provides\n",
    "\n",
    "\\begin{equation}\n",
    "(X_{1i} - X_{2i}(X_{2i}'X_{2i})^{-1}X_{2i}'X_{1i})'Y_i.\n",
    "\\tag{6}\n",
    "\\end{equation}\n",
    "\n",
    "Equations (5) and (6) are equivalent up to a few significant digits, resulting in equations (3) and (4) being equivalent up to the same significant digit standard. "
   ]
  },
  {
   "cell_type": "markdown",
   "metadata": {},
   "source": [
    "**Problem 2**\n",
    "\n",
    "The selected data set includes observations on consumption $(c_i)$, income $(m_i^*)$, and investment $(I_i)$. However, income is not perfectly observable. The true value is assumed to vary by $m_i = m_i^* + u_i$ for $u_i \\sim N(0, \\sigma_u^2)$. Investment is observable. The specified consumption model takes the simple form $c_i = \\beta_0 + \\beta_1m_i^* + e_i = \\beta_0 + \\beta_1m_i + (e_i - \\beta_1u_i) = \\beta_0 + \\beta_1m_i + \\phi_i$. It is further assumed that $Cov(I_i, m_i) \\neq 0$ and $Cov(I_i, \\phi_i) = 0$."
   ]
  },
  {
   "cell_type": "markdown",
   "metadata": {},
   "source": [
    "**(a)** From the GMM sample moment conditions it is assumed that $E[m_i\\phi_i] = 0$, but the specification above clearly results in $E[m_i\\phi_i] \\neq 0$. Unobservable income will be instrumented with investment, given that the orthogonality condition $E[I_i\\phi_i] = E[\\mathbf{Z}'(\\mathbf{y} - \\mathbf{X}\\boldsymbol{\\beta})] = 0$ is satisfied for $\\mathbf{Z} = [\\mathbf{I}]$, $\\mathbf{y} = [\\mathbf{c}]$, $\\mathbf{X} = [\\mathbf{m}]$, and $\\boldsymbol{\\beta} = [\\beta_0, \\beta_1]$. The orthogonality condition produces the instrumental variable estimator $\\boldsymbol{\\beta}_{IV} = (\\mathbf{Z}'\\mathbf{X})^{-1}\\mathbf{Z}'\\mathbf{y}$."
   ]
  },
  {
   "cell_type": "code",
   "execution_count": 4,
   "metadata": {},
   "outputs": [
    {
     "name": "stdout",
     "output_type": "stream",
     "text": [
      "The IV estimates are [[2.8   0.774]]\n"
     ]
    }
   ],
   "source": [
    "# Just identified\n",
    "data2 = pd.read_csv('/home/akappes/WSU/512_MetricsII/PS3_2_525PS10IVdata.csv').rename(columns= {'y': 'm'})\n",
    "\n",
    "y = np.array(data2['c'])[np.newaxis].T\n",
    "X = np.array([np.repeat(1, len(data2.index)), data2['m']]).T\n",
    "Z = np.array([np.repeat(1, len(data2.index)), data2['i']])\n",
    "\n",
    "b_iv = np.linalg.multi_dot([np.linalg.inv(np.dot(Z, X)), Z, y])\n",
    "print('The IV estimates are', np.round(b_iv.T, 3))"
   ]
  },
  {
   "cell_type": "markdown",
   "metadata": {},
   "source": [
    "**(b)** The two-stage least squares objective is $\\underset{\\boldsymbol{\\beta}}{\\text{min}}(\\mathbf{y}-\\hat{\\mathbf{X}}\\boldsymbol{\\beta})'(\\mathbf{y}-\\hat{\\mathbf{X}}\\boldsymbol{\\beta})$, where $\\hat{\\mathbf{X}}=\\mathbf{Z}(\\mathbf{Z}'\\mathbf{Z})^{-1}\\mathbf{Z}'\\mathbf{X}$."
   ]
  },
  {
   "cell_type": "code",
   "execution_count": 5,
   "metadata": {},
   "outputs": [
    {
     "name": "stdout",
     "output_type": "stream",
     "text": [
      "The 2SLS estimates are [[2.8   0.774]]\n"
     ]
    }
   ],
   "source": [
    "# 2SLS\n",
    "y = data2['c']\n",
    "x_fit = pd.DataFrame(sm.OLS(data2['m'], sm.add_constant(data2['i'])).fit().predict())\n",
    "\n",
    "stage2_params = np.array([sm.OLS(y, sm.add_constant(x_fit)).fit().params])\n",
    "print('The 2SLS estimates are', np.round(stage2_params, 3))"
   ]
  },
  {
   "cell_type": "markdown",
   "metadata": {},
   "source": [
    "**(c)** Assuming that the true income value is known and switching to a simultaneous equation environment, the system becomes\n",
    "\n",
    "\\begin{equation*}\n",
    "c_i = \\alpha_0 + \\alpha_1m_i + e_i \\\\[7pt]\n",
    "m_i = \\rho_0 + \\rho_1c_i + \\delta I_i + u_i,\n",
    "\\end{equation*}\n",
    "\n",
    "with the reduced form coefficient for endogenous income as\n",
    "\n",
    "\\begin{equation*}\n",
    "\\frac{\\delta_1^*}{\\delta_2^*} = \\left(\\frac{\\alpha_1\\delta}{1-\\alpha_1\\rho_1}\\right)\\left(\\frac{1-\\alpha_1\\rho_1}{\\delta}\\right) = \\alpha_1.\n",
    "\\end{equation*}"
   ]
  },
  {
   "cell_type": "code",
   "execution_count": 6,
   "metadata": {},
   "outputs": [
    {
     "name": "stdout",
     "output_type": "stream",
     "text": [
      "Endogenous income variable reduced form estimate is 0.775\n"
     ]
    }
   ],
   "source": [
    "# Simultaneous eqs\n",
    "y_params = sm.OLS(y, sm.add_constant(data2['m'])).fit().params\n",
    "m = data2['m']\n",
    "m_params = sm.OLS(m, sm.add_constant(data2[['c', 'i']])).fit().params\n",
    "\n",
    "delta1 = (y_params[1] * m_params[2])/(1 - m_params[1] * y_params[1])\n",
    "delta2 = m_params[2]/(1 - m_params[1] * y_params[1])\n",
    "alpha = delta1/delta2\n",
    "print('Endogenous income variable reduced form estimate is', round(alpha, 3))"
   ]
  },
  {
   "cell_type": "markdown",
   "metadata": {},
   "source": [
    "**(d)** The instrumental variable covariance ratio estimate is specified as\n",
    "\n",
    "\\begin{equation*}\n",
    "\\beta_{IV} = \\frac{Cov(\\mathbf{Z}, \\mathbf{Y})}{Cov(\\mathbf{Z}, \\mathbf{X})}\n",
    "\\end{equation*}"
   ]
  },
  {
   "cell_type": "code",
   "execution_count": 7,
   "metadata": {},
   "outputs": [
    {
     "name": "stdout",
     "output_type": "stream",
     "text": [
      "The covariance ratio IV estimate is 0.774\n"
     ]
    }
   ],
   "source": [
    "cov_ratio = np.divide(np.cov(data2['i'], data2['c']), np.cov(data2['i'], data2['m']))\n",
    "print('The covariance ratio IV estimate is', round(cov_ratio[0, 1], 3))"
   ]
  },
  {
   "cell_type": "markdown",
   "metadata": {},
   "source": [
    "The results from parts **(a)**-**(d)** show that the same estimate is produced for different instrumental variable estimation strategies, given the just identified environment."
   ]
  }
 ],
 "metadata": {
  "kernelspec": {
   "display_name": "Python 3",
   "language": "python",
   "name": "python3"
  },
  "language_info": {
   "codemirror_mode": {
    "name": "ipython",
    "version": 3
   },
   "file_extension": ".py",
   "mimetype": "text/x-python",
   "name": "python",
   "nbconvert_exporter": "python",
   "pygments_lexer": "ipython3",
   "version": "3.6.5"
  }
 },
 "nbformat": 4,
 "nbformat_minor": 2
}

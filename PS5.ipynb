{
 "cells": [
  {
   "cell_type": "markdown",
   "metadata": {},
   "source": [
    "Alex Kappes <br>\n",
    "Problem Set 5 <br>\n",
    "EconS 512\n",
    "\n",
    "**Problem 1**. Pear consumption across time $t$ for three individuals $i$ comprises the data set selected for this problem. Included observations consist of pear consumption ($Q_{it}$), pear and apple prices ($pear\\_p_t$, $apple\\_p_t$), income ($income_{it}$), the consumer price index ($cpi_t$), and the month ($month_t$). Time $t$ is measured by month over the year 2001. Seasonal effects for preliminary estimation results are measured such that\n",
    "\n",
    "\\begin{equation*}\n",
    "bin\\_season = \\left\\{\n",
    "\\begin{array}{l l}\n",
    "1 & \\text{if month} \\in \\{9, 10 , 11, 12, 1\\} \\\\\n",
    "0 & \\text{otherwise}\n",
    "\\end{array}\n",
    "\\right..\n",
    "\\end{equation*}\n",
    "\n",
    "$\\forall\\ i \\in\\ I,\\ \\text{and}\\ t \\in\\ T$ let $\\mathbf{y} = [\\mathbf{Q}]$ and $\\mathbf{X} = [\\mathbf{1}, \\mathbf{pear\\_p}, \\mathbf{apple\\_p}, \\mathbf{income}, \\mathbf{bin\\_season}]$, which implies the specification $\\mathbf{y} = \\mathbf{X}\\boldsymbol{\\beta} + \\xi_{it}$ for estimable parameters $\\boldsymbol{\\beta}$."
   ]
  },
  {
   "cell_type": "markdown",
   "metadata": {},
   "source": [
    "**(a)** Results for $\\hat{\\boldsymbol{\\beta}}$ are presented below."
   ]
  },
  {
   "cell_type": "code",
   "execution_count": 68,
   "metadata": {},
   "outputs": [
    {
     "name": "stdout",
     "output_type": "stream",
     "text": [
      "Parameters are estimated as [[-33.644  36.786   0.218  -8.404]]\n"
     ]
    }
   ],
   "source": [
    "import numpy as np\n",
    "import pandas as pd\n",
    "\n",
    "df = pd.read_csv('/home/akappes/WSU/512_MetricsII/fruit_panel.csv')\n",
    "\n",
    "# Data mgmt\n",
    "bin_season = pd.DataFrame({'bin_season': 0}, index=df.index)\n",
    "\n",
    "for i in range(len(bin_season)):\n",
    "    if df.loc[i, 'month'] == 9:\n",
    "        bin_season.loc[i, 'bin_season'] = 1\n",
    "    elif df.loc[i, 'month'] == 10:\n",
    "        bin_season.loc[i, 'bin_season'] = 1\n",
    "    elif df.loc[i, 'month'] == 11:\n",
    "        bin_season.loc[i, 'bin_season'] = 1\n",
    "    elif df.loc[i, 'month'] == 12:\n",
    "        bin_season.loc[i, 'bin_season'] = 1\n",
    "    elif df.loc[i, 'month'] == 1:\n",
    "        bin_season.loc[i, 'bin_season'] = 1\n",
    "    else:\n",
    "        bin_season.loc[i, 'bin_season'] = 0\n",
    "\n",
    "reals = pd.DataFrame({'pear_rp': df['pear_p'] / df['cpi'],\n",
    "                      'apple_rp': df['apple_p'] / df['cpi'],\n",
    "                      'r_income': df['income'] / df['cpi']})\n",
    "\n",
    "df = pd.concat([df['Q'], reals, bin_season], axis=1)\n",
    "\n",
    "# Parameter estimation and White's HC estimation\n",
    "n = len(df.index)\n",
    "y = np.array(df['Q']).reshape(n, 1)\n",
    "X = np.concatenate((np.repeat(1, len(df)).reshape(n, 1), np.array(df.loc[:, df.columns != 'Q'])), axis=1)\n",
    "k = X.shape[1]\n",
    "\n",
    "b = np.linalg.multi_dot([np.linalg.inv(np.dot(X.T, X)), X.T, y])\n",
    "\n",
    "e_hat = y - np.dot(X, b)\n",
    "e_sq = np.power(e_hat, 2)\n",
    "\n",
    "w = np.zeros((k, k))\n",
    "i = 1\n",
    "\n",
    "while i < n:\n",
    "\n",
    "    w = w + e_sq[i] * np.dot(X[i, :].T, X[i, :])\n",
    "    i = i + 1\n",
    "\n",
    "    if i > n:\n",
    "\n",
    "        break\n",
    "\n",
    "w_hce = np.linalg.multi_dot([np.linalg.inv(np.dot(X.T, X)),\n",
    "                             w,\n",
    "                             np.linalg.inv(np.dot(X.T, X))])\n",
    "w_se = np.sqrt(np.diag(w_hce))\n",
    "\n",
    "print('Parameters are estimated as', np.round(b[1:5].T, 3))"
   ]
  },
  {
   "cell_type": "markdown",
   "metadata": {},
   "source": [
    "**(b)** Parameter estimates for $(y_{it} - \\bar{y}) = (X_{it} - \\bar{X})\\beta_l + \\xi_{it}$ are presented below. "
   ]
  },
  {
   "cell_type": "code",
   "execution_count": 69,
   "metadata": {},
   "outputs": [
    {
     "name": "stdout",
     "output_type": "stream",
     "text": [
      "Parameter estimates for the above specification are [[-33.644  36.786   0.218  -8.404]]\n"
     ]
    }
   ],
   "source": [
    "y_diff = y - y.mean()\n",
    "X_diff = np.array([X[:, 0], X[:, 1] - X[:, 1].mean(), X[:, 2] - X[:, 2].mean(), X[:, 3] - X[:, 3].mean(),\n",
    "                   X[:, 4]]).T\n",
    "\n",
    "b_diff = np.linalg.multi_dot([np.linalg.inv(np.dot(X_diff.T, X_diff)), X_diff.T, y_diff])\n",
    "\n",
    "print('Parameter estimates for the above specification are', np.round(b_diff[1:5].T, 3))"
   ]
  },
  {
   "cell_type": "markdown",
   "metadata": {},
   "source": [
    "Estimation results show no change in $\\hat{\\boldsymbol\\beta}_{-0}$."
   ]
  },
  {
   "cell_type": "markdown",
   "metadata": {},
   "source": [
    "**(c)** Parameter estimates for the specification $\\mathbf{y} = \\mathbf{X}\\boldsymbol{\\beta} + \\boldsymbol{\\gamma}\\boldsymbol{\\alpha} + \\boldsymbol{\\xi}$, where $\\boldsymbol{\\gamma}$ represents an $n\\times(i-1)$ matrix of indicator variables for $i=\\{1, 2, 3\\}$, are presented below."
   ]
  },
  {
   "cell_type": "code",
   "execution_count": 70,
   "metadata": {},
   "outputs": [
    {
     "name": "stdout",
     "output_type": "stream",
     "text": [
      "Parameter estimates for the above specification are [[-33.484  36.876   0.219  -8.406]]\n"
     ]
    }
   ],
   "source": [
    "individuals = pd.DataFrame({'inds': np.resize([1, 2, 3], n)}, index=df.index)\n",
    "bin_i_1 = pd.DataFrame()\n",
    "bin_i_2 = pd.DataFrame()\n",
    "\n",
    "for i in range(len(individuals)):\n",
    "\n",
    "    if individuals.loc[i, 'inds'] == 1:\n",
    "\n",
    "        bin_i_1.loc[i, 'bin_i_1'] = 1\n",
    "\n",
    "    else:\n",
    "\n",
    "        bin_i_1.loc[i, 'bin_i_1'] = 0\n",
    "\n",
    "for i in range(len(individuals)):\n",
    "\n",
    "    if individuals.loc[i, 'inds'] == 2:\n",
    "\n",
    "        bin_i_2.loc[i, 'bin_i_2'] = 1\n",
    "\n",
    "    else:\n",
    "\n",
    "        bin_i_2.loc[i, 'bin_i_2'] = 0\n",
    "\n",
    "X_bin_i = np.concatenate((X, bin_i_1, bin_i_2), axis=1)\n",
    "b_bin_i = np.linalg.multi_dot([np.linalg.inv(np.dot(X_bin_i.T, X_bin_i)), X_bin_i.T, y])\n",
    "\n",
    "print('Parameter estimates for the above specification are', np.round(b_bin_i[1:5].T, 3))"
   ]
  },
  {
   "cell_type": "markdown",
   "metadata": {},
   "source": [
    "The estimation results for parts **(a)-(c)** show that different fixed effect methodologies can produce the same parameter estimates."
   ]
  },
  {
   "cell_type": "markdown",
   "metadata": {},
   "source": [
    "**Problem 2**. See problem set for variable information and different model specifications."
   ]
  },
  {
   "cell_type": "markdown",
   "metadata": {},
   "source": [
    "**(a)**"
   ]
  },
  {
   "cell_type": "code",
   "execution_count": 71,
   "metadata": {},
   "outputs": [],
   "source": [
    "df = pd.read_csv('/home/akappes/WSU/512_MetricsII/jtrain1.csv')\n",
    "dep_l = list(df['hrsemp'].dropna().index)\n",
    "df = df.loc[dep_l, :]\n",
    "df_sub = df.loc[df['year'].isin([1987, 1988])].reset_index()\n",
    "\n",
    "y_1988 = pd.DataFrame({'y_1988': np.where(df_sub['year'] == 1988, 1, 0)})"
   ]
  },
  {
   "cell_type": "markdown",
   "metadata": {},
   "source": [
    "**(a).i**"
   ]
  },
  {
   "cell_type": "code",
   "execution_count": 72,
   "metadata": {},
   "outputs": [
    {
     "name": "stdout",
     "output_type": "stream",
     "text": [
      "Control, before mean: 8.886857601792313 \n",
      "Control, after mean: 9.671083345252557 \n",
      "Treatment, before mean: nan \n",
      "Treatment, before mean: 35.97834186015592\n"
     ]
    }
   ],
   "source": [
    "cont_bef_mean = df_sub[(df_sub['year'] == 1987) & (df_sub['grant'] == 0)]['hrsemp'].mean()\n",
    "cont_af_mean = df_sub[(df_sub['year'] == 1988) & (df_sub['grant'] == 0)]['hrsemp'].mean()\n",
    "treat_bef_mean = df_sub[(df_sub['year'] == 1987) & (df_sub['grant'] == 1)]['hrsemp'].mean()\n",
    "treat_af_mean = df_sub[(df_sub['year'] == 1988) & (df_sub['grant'] == 1)]['hrsemp'].mean()\n",
    "\n",
    "print('Control, before mean:', cont_bef_mean, '\\n' 'Control, after mean:', cont_af_mean,\n",
    "      '\\n' 'Treatment, before mean:', treat_bef_mean, '\\n' 'Treatment, before mean:', treat_af_mean)\n",
    "\n",
    "treat_bef_mean = 0"
   ]
  },
  {
   "cell_type": "markdown",
   "metadata": {},
   "source": [
    "There is no data for $(hrsemp\\ \\rvert\\ grant = 1, year = 1987)$. The before treatment mean for $hrsemp$ is effectively 0 becuase in 1987 there were no grants. The difference in difference estimate $\\hat{\\alpha}$ follows. The $hrsemp$ values for those firms receiving grants in 1988 were found when no grants were offered in 1987."
   ]
  },
  {
   "cell_type": "code",
   "execution_count": 73,
   "metadata": {},
   "outputs": [
    {
     "name": "stdout",
     "output_type": "stream",
     "text": [
      "The diff-in-diff estimator, alpha is: 27.603\n"
     ]
    }
   ],
   "source": [
    "con_list = df_sub[(df_sub['year'] == 1988) & (df_sub['grant'] == 1)]['hrsemp'].index\n",
    "join87 = df_sub.loc[df_sub['year'] == 1987, ['fcode', 'hrsemp']]\n",
    "join88 = pd.DataFrame(df_sub.loc[con_list, 'fcode'])\n",
    "treat_bef_dat = pd.merge(join88, join87, how='left', on='fcode')\n",
    "treat_bef_mean = treat_bef_dat['hrsemp'].mean()\n",
    "\n",
    "alpha = (treat_af_mean - treat_bef_mean) - (cont_af_mean - cont_bef_mean)\n",
    "\n",
    "print('The diff-in-diff estimator, alpha is:', round(alpha, 3))"
   ]
  },
  {
   "cell_type": "markdown",
   "metadata": {},
   "source": [
    "**(a).ii**"
   ]
  },
  {
   "cell_type": "code",
   "execution_count": 74,
   "metadata": {},
   "outputs": [
    {
     "name": "stdout",
     "output_type": "stream",
     "text": [
      "Parameter estimates the specified equation are [[ 9.297 26.307  0.374 -1.706]]\n"
     ]
    }
   ],
   "source": [
    "n = len(df_sub)\n",
    "y = np.array(df_sub['hrsemp']).reshape(n, 1)\n",
    "\n",
    "E_i = pd.DataFrame({'E_i': 0}, index=df_sub.index)\n",
    "E_dat = pd.concat([df_sub[['year', 'fcode', 'grant']], E_i], axis=1)\n",
    "\n",
    "E_sub88 = pd.DataFrame(E_dat[E_dat['grant'] == 1]['fcode'])\n",
    "E_sub87 = pd.DataFrame(E_dat[E_dat['year'] == 1987]).reset_index()\n",
    "l_idx = pd.merge(E_sub88, E_sub87, how='left', on='fcode')['index'].tolist()\n",
    "E_dat.loc[l_idx, 'E_i'] = 1\n",
    "\n",
    "X = np.concatenate((np.ones(n).reshape(n, 1), np.array(df_sub['grant']).reshape(n, 1),\n",
    "                    np.array(y_1988['y_1988']).reshape(n, 1), np.array(E_dat['E_i']).reshape(n, 1)),\n",
    "                   axis=1)\n",
    "\n",
    "b = np.linalg.multi_dot([np.linalg.inv(np.dot(X.T, X)), X.T, y])\n",
    "\n",
    "print('Parameter estimates the specified equation are', np.round(b.T, 3))"
   ]
  },
  {
   "cell_type": "markdown",
   "metadata": {},
   "source": [
    "The estimated treatment effect is shown as:"
   ]
  },
  {
   "cell_type": "code",
   "execution_count": 75,
   "metadata": {},
   "outputs": [
    {
     "name": "stdout",
     "output_type": "stream",
     "text": [
      "[26.30725851]\n"
     ]
    }
   ],
   "source": [
    "print(b[1])"
   ]
  },
  {
   "cell_type": "markdown",
   "metadata": {},
   "source": [
    "**(a).iii**"
   ]
  },
  {
   "cell_type": "code",
   "execution_count": 76,
   "metadata": {},
   "outputs": [
    {
     "name": "stdout",
     "output_type": "stream",
     "text": [
      "Estimated parameters are:\n",
      " [  7.272   4.473  21.223  -7.527  -7.527  -7.527  -6.642  23.907  11.885\n",
      "  -7.527  -7.227  15.384  -7.527  -5.977  -7.527  -6.902  -7.165  -7.527\n",
      "  -7.527  -7.527  -6.304  -7.527  -5.256  -7.527  -3.161  -7.527  -7.527\n",
      "  17.473  -6.052  31.299  -6.769  -7.527   3.473  24.723  -7.527  -4.848\n",
      "  -7.527   4.473  -5.622  -7.521  -6.508  38.347  -5.115  20.448  -6.098\n",
      " -11.992 -13.466 -17.166 -14.466  88.937 -18.389  -2.466 -12.266 -20.207\n",
      "  -1.527  -9.466   6.034 -20.543 -11.988  -5.272   2.096  -7.272  22.728\n",
      " -14.456 -19.909  -1.466  25.034  88.951  -7.403 -12.466  -1.313   5.034\n",
      "  18.534   2.473  -1.466  32.473  -8.466  -6.072  -1.966 -16.466  -7.527\n",
      " -18.466  -1.181  -7.527  -7.527  32.417  -3.291  -0.894  -7.527  -1.384\n",
      "  19.696  -7.527  15.882  -7.527  -7.244  -5.027  -7.527  -7.39    9.973\n",
      "  37.473  -7.527  -3.753  -7.527  -3.677  -7.527  54.973  -6.815  19.178\n",
      "  -7.527  -7.527  -5.384  -7.527  -6.443  63.307   6.346  10.807  20.678\n",
      "  -7.527   5.236  -7.527  22.473  -7.527  -1.145  -7.527  82.473  -2.943\n",
      "  -6.027  -7.781  -7.527  -7.527  -7.527  27.878   0.509]\n"
     ]
    }
   ],
   "source": [
    "import statsmodels.formula.api as smf\n",
    "\n",
    "X_iii = pd.concat([df_sub[['fcode', 'grant']], y_1988], axis=1)\n",
    "X_iii['fcode'] = pd.Categorical(X_iii['fcode'])\n",
    "y = pd.DataFrame(y)\n",
    "\n",
    "mod_dat = pd.concat([y, X_iii], axis=1)\n",
    "mod_dat = mod_dat.rename(columns = {0:'y'})\n",
    "\n",
    "mod_form = 'y ~ fcode + grant + y_1988'\n",
    "mod_params = smf.ols(mod_form, data=mod_dat).fit().params\n",
    "\n",
    "print('Estimated parameters are:' '\\n', np.array(round(mod_params, 3)))"
   ]
  },
  {
   "cell_type": "markdown",
   "metadata": {},
   "source": [
    "Ignoring the firm fixed effect estimation parameters, the above results show that the parameters are approximately the same."
   ]
  },
  {
   "cell_type": "code",
   "execution_count": 77,
   "metadata": {},
   "outputs": [
    {
     "name": "stdout",
     "output_type": "stream",
     "text": [
      "Estimated parameters are:\n",
      " [27.878  0.509]\n"
     ]
    }
   ],
   "source": [
    "print('Estimated parameters are:' '\\n', np.array(round(mod_params, 3))[-2:])"
   ]
  }
 ],
 "metadata": {
  "kernelspec": {
   "display_name": "Python 3",
   "language": "python",
   "name": "python3"
  },
  "language_info": {
   "codemirror_mode": {
    "name": "ipython",
    "version": 3
   },
   "file_extension": ".py",
   "mimetype": "text/x-python",
   "name": "python",
   "nbconvert_exporter": "python",
   "pygments_lexer": "ipython3",
   "version": "3.6.5"
  }
 },
 "nbformat": 4,
 "nbformat_minor": 2
}

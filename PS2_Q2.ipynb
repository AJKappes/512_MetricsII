{
 "cells": [
  {
   "cell_type": "markdown",
   "metadata": {},
   "source": [
    "Alex Kappes <br>\n",
    "3 Sep 2018 <br>\n",
    "EconS 512 - **Problem Set 2**"
   ]
  },
  {
   "cell_type": "markdown",
   "metadata": {},
   "source": [
    "**Question 2**. <br>\n",
    "This assignment is completed using Jupyter Notebook in Python.\n",
    "\n",
    "**(1)**, **(2)**, and **(3)**\n",
    "\n",
    "*Data management*: Importing data and dropping observations with missing values. \n",
    "\n",
    "The total count of observation dropped due to null values is 202. The null values are not replaced with '0' because of the biased effects of introducing measurement error. The proportion of dropped observations in the data set is small enough that their exclusion will not distort estimation results. "
   ]
  },
  {
   "cell_type": "code",
   "execution_count": 1,
   "metadata": {
    "scrolled": true
   },
   "outputs": [
    {
     "name": "stdout",
     "output_type": "stream",
     "text": [
      "Dropped observations: 220\n",
      "Remaining observations: 1612\n",
      "Proportion of dropped observations: 0.1201\n",
      "The difference in log birthweight for mothers who smoke and those who do not is -0.063\n"
     ]
    }
   ],
   "source": [
    "import numpy as np\n",
    "import pandas as pd\n",
    "import statsmodels.api as sm\n",
    "import plotly.plotly as plt\n",
    "import plotly.figure_factory as ff\n",
    "\n",
    "data = pd.read_csv('/home/akappes/WSU/512_MetricsII/bwght2.csv')\n",
    "\n",
    "# Drop nan values\n",
    "null_list = data.index[data.isnull().any(axis=1)]\n",
    "sub_data = data.drop(null_list)\n",
    "sub_data = sub_data.reset_index()\n",
    "\n",
    "print('Dropped observations:', len(null_list))\n",
    "print('Remaining observations:', len(sub_data.index))\n",
    "print('Proportion of dropped observations:', round(np.divide(len(null_list), len(data.index)), 4))\n",
    "\n",
    "# Create treatment binary variable for mother smoking\n",
    "sub_data['treatment'] = sub_data['cigs'].apply(lambda x: 1 if x > 0 else 0)\n",
    "\n",
    "# Difference in ln birth weight, smoker v non smoker\n",
    "smoker_list = sub_data.index[sub_data['treatment'] == 1]\n",
    "nonsmoker_list = sub_data.index[sub_data['treatment'] == 0]\n",
    "mean_diff = sub_data.loc[smoker_list, 'lbwght'].mean() - sub_data.loc[nonsmoker_list, 'lbwght'].mean()\n",
    "\n",
    "print('The difference in log birthweight for mothers who smoke and those who do not is', round(mean_diff, 4))"
   ]
  },
  {
   "cell_type": "markdown",
   "metadata": {},
   "source": [
    "The mean difference value provides that on average, mothers who smoke give birth to babies that weight $e^{-0.063} = 0.939$ less units. (pounds or ounces? Weight units is not specified.)"
   ]
  },
  {
   "cell_type": "markdown",
   "metadata": {},
   "source": [
    "**(4)**. The estimation summary results for the OLS specified model $Y = \\alpha T_i + \\mathbf{X}\\boldsymbol{\\beta} + \\boldsymbol{\\varepsilon}$ for $i = \\{0, 1\\}$ are presented below."
   ]
  },
  {
   "cell_type": "code",
   "execution_count": 2,
   "metadata": {},
   "outputs": [
    {
     "data": {
      "text/html": [
       "<table class=\"simpletable\">\n",
       "<caption>OLS Regression Results</caption>\n",
       "<tr>\n",
       "  <th>Dep. Variable:</th>         <td>lbwght</td>      <th>  R-squared:         </th> <td>   0.030</td>\n",
       "</tr>\n",
       "<tr>\n",
       "  <th>Model:</th>                   <td>OLS</td>       <th>  Adj. R-squared:    </th> <td>   0.023</td>\n",
       "</tr>\n",
       "<tr>\n",
       "  <th>Method:</th>             <td>Least Squares</td>  <th>  F-statistic:       </th> <td>   4.459</td>\n",
       "</tr>\n",
       "<tr>\n",
       "  <th>Date:</th>             <td>Mon, 24 Sep 2018</td> <th>  Prob (F-statistic):</th> <td>1.19e-06</td>\n",
       "</tr>\n",
       "<tr>\n",
       "  <th>Time:</th>                 <td>11:19:33</td>     <th>  Log-Likelihood:    </th> <td>  445.31</td>\n",
       "</tr>\n",
       "<tr>\n",
       "  <th>No. Observations:</th>      <td>  1612</td>      <th>  AIC:               </th> <td>  -866.6</td>\n",
       "</tr>\n",
       "<tr>\n",
       "  <th>Df Residuals:</th>          <td>  1600</td>      <th>  BIC:               </th> <td>  -802.0</td>\n",
       "</tr>\n",
       "<tr>\n",
       "  <th>Df Model:</th>              <td>    11</td>      <th>                     </th>     <td> </td>   \n",
       "</tr>\n",
       "<tr>\n",
       "  <th>Covariance Type:</th>      <td>nonrobust</td>    <th>                     </th>     <td> </td>   \n",
       "</tr>\n",
       "</table>\n",
       "<table class=\"simpletable\">\n",
       "<tr>\n",
       "      <td></td>         <th>coef</th>     <th>std err</th>      <th>t</th>      <th>P>|t|</th>  <th>[0.025</th>    <th>0.975]</th>  \n",
       "</tr>\n",
       "<tr>\n",
       "  <th>const</th>     <td>    7.5602</td> <td>    0.140</td> <td>   53.910</td> <td> 0.000</td> <td>    7.285</td> <td>    7.835</td>\n",
       "</tr>\n",
       "<tr>\n",
       "  <th>treatment</th> <td>   -0.0525</td> <td>    0.017</td> <td>   -3.116</td> <td> 0.002</td> <td>   -0.086</td> <td>   -0.019</td>\n",
       "</tr>\n",
       "<tr>\n",
       "  <th>mage</th>      <td>    0.0249</td> <td>    0.009</td> <td>    2.721</td> <td> 0.007</td> <td>    0.007</td> <td>    0.043</td>\n",
       "</tr>\n",
       "<tr>\n",
       "  <th>meduc</th>     <td>   -0.0015</td> <td>    0.003</td> <td>   -0.523</td> <td> 0.601</td> <td>   -0.007</td> <td>    0.004</td>\n",
       "</tr>\n",
       "<tr>\n",
       "  <th>monpre</th>    <td>    0.0125</td> <td>    0.004</td> <td>    2.913</td> <td> 0.004</td> <td>    0.004</td> <td>    0.021</td>\n",
       "</tr>\n",
       "<tr>\n",
       "  <th>npvis</th>     <td>    0.0121</td> <td>    0.004</td> <td>    3.179</td> <td> 0.002</td> <td>    0.005</td> <td>    0.020</td>\n",
       "</tr>\n",
       "<tr>\n",
       "  <th>fage</th>      <td>    0.0018</td> <td>    0.001</td> <td>    1.548</td> <td> 0.122</td> <td>   -0.000</td> <td>    0.004</td>\n",
       "</tr>\n",
       "<tr>\n",
       "  <th>feduc</th>     <td>    0.0023</td> <td>    0.003</td> <td>    0.911</td> <td> 0.362</td> <td>   -0.003</td> <td>    0.007</td>\n",
       "</tr>\n",
       "<tr>\n",
       "  <th>fblck</th>     <td>    0.0665</td> <td>    0.050</td> <td>    1.327</td> <td> 0.185</td> <td>   -0.032</td> <td>    0.165</td>\n",
       "</tr>\n",
       "<tr>\n",
       "  <th>magesq</th>    <td>   -0.0004</td> <td>    0.000</td> <td>   -2.748</td> <td> 0.006</td> <td>   -0.001</td> <td>   -0.000</td>\n",
       "</tr>\n",
       "<tr>\n",
       "  <th>npvissq</th>   <td>   -0.0002</td> <td>    0.000</td> <td>   -2.018</td> <td> 0.044</td> <td>   -0.000</td> <td>-6.76e-06</td>\n",
       "</tr>\n",
       "<tr>\n",
       "  <th>mblck</th>     <td>   -0.0619</td> <td>    0.051</td> <td>   -1.212</td> <td> 0.226</td> <td>   -0.162</td> <td>    0.038</td>\n",
       "</tr>\n",
       "</table>\n",
       "<table class=\"simpletable\">\n",
       "<tr>\n",
       "  <th>Omnibus:</th>       <td>795.574</td> <th>  Durbin-Watson:     </th> <td>   1.890</td> \n",
       "</tr>\n",
       "<tr>\n",
       "  <th>Prob(Omnibus):</th> <td> 0.000</td>  <th>  Jarque-Bera (JB):  </th> <td>10828.201</td>\n",
       "</tr>\n",
       "<tr>\n",
       "  <th>Skew:</th>          <td>-1.962</td>  <th>  Prob(JB):          </th> <td>    0.00</td> \n",
       "</tr>\n",
       "<tr>\n",
       "  <th>Kurtosis:</th>      <td>15.075</td>  <th>  Cond. No.          </th> <td>2.90e+04</td> \n",
       "</tr>\n",
       "</table><br/><br/>Warnings:<br/>[1] Standard Errors assume that the covariance matrix of the errors is correctly specified.<br/>[2] The condition number is large, 2.9e+04. This might indicate that there are<br/>strong multicollinearity or other numerical problems."
      ],
      "text/plain": [
       "<class 'statsmodels.iolib.summary.Summary'>\n",
       "\"\"\"\n",
       "                            OLS Regression Results                            \n",
       "==============================================================================\n",
       "Dep. Variable:                 lbwght   R-squared:                       0.030\n",
       "Model:                            OLS   Adj. R-squared:                  0.023\n",
       "Method:                 Least Squares   F-statistic:                     4.459\n",
       "Date:                Mon, 24 Sep 2018   Prob (F-statistic):           1.19e-06\n",
       "Time:                        11:19:33   Log-Likelihood:                 445.31\n",
       "No. Observations:                1612   AIC:                            -866.6\n",
       "Df Residuals:                    1600   BIC:                            -802.0\n",
       "Df Model:                          11                                         \n",
       "Covariance Type:            nonrobust                                         \n",
       "==============================================================================\n",
       "                 coef    std err          t      P>|t|      [0.025      0.975]\n",
       "------------------------------------------------------------------------------\n",
       "const          7.5602      0.140     53.910      0.000       7.285       7.835\n",
       "treatment     -0.0525      0.017     -3.116      0.002      -0.086      -0.019\n",
       "mage           0.0249      0.009      2.721      0.007       0.007       0.043\n",
       "meduc         -0.0015      0.003     -0.523      0.601      -0.007       0.004\n",
       "monpre         0.0125      0.004      2.913      0.004       0.004       0.021\n",
       "npvis          0.0121      0.004      3.179      0.002       0.005       0.020\n",
       "fage           0.0018      0.001      1.548      0.122      -0.000       0.004\n",
       "feduc          0.0023      0.003      0.911      0.362      -0.003       0.007\n",
       "fblck          0.0665      0.050      1.327      0.185      -0.032       0.165\n",
       "magesq        -0.0004      0.000     -2.748      0.006      -0.001      -0.000\n",
       "npvissq       -0.0002      0.000     -2.018      0.044      -0.000   -6.76e-06\n",
       "mblck         -0.0619      0.051     -1.212      0.226      -0.162       0.038\n",
       "==============================================================================\n",
       "Omnibus:                      795.574   Durbin-Watson:                   1.890\n",
       "Prob(Omnibus):                  0.000   Jarque-Bera (JB):            10828.201\n",
       "Skew:                          -1.962   Prob(JB):                         0.00\n",
       "Kurtosis:                      15.075   Cond. No.                     2.90e+04\n",
       "==============================================================================\n",
       "\n",
       "Warnings:\n",
       "[1] Standard Errors assume that the covariance matrix of the errors is correctly specified.\n",
       "[2] The condition number is large, 2.9e+04. This might indicate that there are\n",
       "strong multicollinearity or other numerical problems.\n",
       "\"\"\""
      ]
     },
     "execution_count": 2,
     "metadata": {},
     "output_type": "execute_result"
    }
   ],
   "source": [
    "# OLS Regression\n",
    "x_vars = ['treatment', 'mage', 'meduc', 'monpre', 'npvis', 'fage', 'feduc', 'fblck', 'magesq', 'npvissq', 'mblck']\n",
    "X = sm.add_constant(sub_data.loc[:, x_vars])\n",
    "y = sub_data.loc[:, 'lbwght']\n",
    "model = sm.OLS(y, X).fit()\n",
    "\n",
    "model.summary()"
   ]
  },
  {
   "cell_type": "markdown",
   "metadata": {},
   "source": [
    "**(5)**. The propensity score matching routine is conducted by using predicted logistic regression values and then matching treated scores to their untreated nearest neighbor. Matching is accomplished by taking a treated individual's propensity score and computing the distance between all other untreated individuals' propensity scores. The minimum distance between propensity scores provides a nearest neighbor for the treated individual, resulting in a match on other characteristic values. "
   ]
  },
  {
   "cell_type": "code",
   "execution_count": 3,
   "metadata": {},
   "outputs": [],
   "source": [
    "# Logit model for propensity scores\n",
    "logistic_X = X.loc[:, X.columns != 'treatment']\n",
    "logistic_y = sub_data.loc[:, 'treatment']\n",
    "logistic_mod = sm.Logit(logistic_y, logistic_X).fit(disp=0)\n",
    "prop_score = pd.DataFrame(logistic_mod.predict())\n",
    "match_data = pd.concat([sub_data.loc[:, x_vars].reset_index(), prop_score], axis=1)\n",
    "match_data = match_data.loc[:, match_data.columns != 'index']\n",
    "match_data = match_data.rename(columns={0: 'score'})"
   ]
  },
  {
   "cell_type": "code",
   "execution_count": 4,
   "metadata": {},
   "outputs": [],
   "source": [
    "# Matching\n",
    "treat_data = match_data.loc[match_data['treatment'] == 1, :].reset_index()\n",
    "nontreat_data = match_data.loc[match_data['treatment'] != 1, :].reset_index()\n",
    "\n",
    "### Treated matching\n",
    "dist = pd.DataFrame(np.empty([len(nontreat_data.index), len(treat_data.index)]))\n",
    "\n",
    "for i in range(len(treat_data.index)):\n",
    "    dist[i] = abs(treat_data.loc[i, 'score'] - nontreat_data['score'])\n",
    "\n",
    "nearest_neighbor = list(dist.columns)\n",
    "\n",
    "for i in range(len(dist.columns)):\n",
    "    nearest_neighbor[i] = dist[i].idxmin()\n",
    "\n",
    "treat_y_list = list(treat_data['index'])\n",
    "treat_y = pd.DataFrame(sub_data.loc[treat_y_list, 'lbwght']).reset_index()\n",
    "nearest_neighbor_y = pd.DataFrame(sub_data.loc[nearest_neighbor, 'lbwght']).reset_index()\n",
    "\n",
    "### Untreated matching\n",
    "control_dist = dist.T\n",
    "control_nn = list(control_dist.columns)\n",
    "\n",
    "for i in range(len(control_dist.columns)):\n",
    "    control_nn[i] = control_dist[i].idxmin()\n",
    "\n",
    "control_match = pd.DataFrame(0, index=control_nn, columns=['cm_lbwght'])\n",
    "\n",
    "for i in control_nn:\n",
    "    control_match.loc[i, 'cm_lbwght'] = treat_y.loc[i, 'lbwght']\n",
    "\n",
    "t_match = pd.DataFrame(treat_y['lbwght'] - nearest_neighbor_y['lbwght']).sum()\n",
    "u_match = pd.DataFrame(control_match['cm_lbwght'] - sub_data.loc[sub_data['treatment'] == 0, 'lbwght']).sum()"
   ]
  },
  {
   "cell_type": "markdown",
   "metadata": {},
   "source": [
    "The matched average treatment effect is presented below."
   ]
  },
  {
   "cell_type": "code",
   "execution_count": 5,
   "metadata": {},
   "outputs": [
    {
     "name": "stdout",
     "output_type": "stream",
     "text": [
      "Matched ATE: -0.03995062577221544\n"
     ]
    }
   ],
   "source": [
    "# Estimated ATE and TT from logit propensity score\n",
    "est_ate = (t_match[0] + u_match[0])/len(sub_data.index)        \n",
    "est_tt = pd.DataFrame(treat_y['lbwght'] - nearest_neighbor_y['lbwght']).mean()\n",
    "\n",
    "print('Matched ATE:', est_ate)"
   ]
  },
  {
   "cell_type": "markdown",
   "metadata": {},
   "source": [
    "**(6)** The matched treatment on the treated effect is presented below."
   ]
  },
  {
   "cell_type": "code",
   "execution_count": 6,
   "metadata": {},
   "outputs": [
    {
     "name": "stdout",
     "output_type": "stream",
     "text": [
      "Matched TT: -0.024255089137864352\n"
     ]
    }
   ],
   "source": [
    "print('Matched TT:', est_tt[0])"
   ]
  },
  {
   "cell_type": "markdown",
   "metadata": {},
   "source": [
    "The difference between matched ATE and TT provides information about average treatment effects across the whole sample of treated and untreated groups, versus treatment effects based only on the treated group and their closest match."
   ]
  },
  {
   "cell_type": "markdown",
   "metadata": {},
   "source": [
    "**(7)**. The densities for smoker and non-smoker propensity scores are shown below. "
   ]
  },
  {
   "cell_type": "code",
   "execution_count": 7,
   "metadata": {},
   "outputs": [
    {
     "data": {
      "text/html": [
       "<iframe id=\"igraph\" scrolling=\"no\" style=\"border:none;\" seamless=\"seamless\" src=\"https://plot.ly/~AJKappes/52.embed\" height=\"525px\" width=\"100%\"></iframe>"
      ],
      "text/plain": [
       "<plotly.tools.PlotlyDisplay object>"
      ]
     },
     "execution_count": 7,
     "metadata": {},
     "output_type": "execute_result"
    }
   ],
   "source": [
    "# Density plots\n",
    "group_labels = ['Treated', 'Non Treated']\n",
    "plot_data = ff.create_distplot([treat_data['score'], nontreat_data.loc[list(nearest_neighbor_y['index']), 'score']], group_labels, bin_size=.001)\n",
    "plot_data['layout'].update(title='Matched Propensity Score Densities')\n",
    "plt.iplot(plot_data, filename='Treated_Nontreated_density_Matched')"
   ]
  },
  {
   "cell_type": "code",
   "execution_count": 8,
   "metadata": {},
   "outputs": [
    {
     "data": {
      "text/html": [
       "<iframe id=\"igraph\" scrolling=\"no\" style=\"border:none;\" seamless=\"seamless\" src=\"https://plot.ly/~AJKappes/50.embed\" height=\"525px\" width=\"100%\"></iframe>"
      ],
      "text/plain": [
       "<plotly.tools.PlotlyDisplay object>"
      ]
     },
     "execution_count": 8,
     "metadata": {},
     "output_type": "execute_result"
    }
   ],
   "source": [
    "plot_data = ff.create_distplot([treat_data['score'], nontreat_data['score']], group_labels, bin_size=.01)\n",
    "plot_data['layout'].update(title='Unmatched Propensity Score Densities')\n",
    "plt.iplot(plot_data, filename='Treated_Nontreated_density_Unmatched')"
   ]
  },
  {
   "cell_type": "markdown",
   "metadata": {},
   "source": [
    "The propensity score densities for matched individuals are very close, which shows that the matching routine worked well. The densities for unmatched individual propensity scores reveal a wider distribution in the conditional probability of being placed in the \"smoker\" group given the characteristics of that individual. "
   ]
  }
 ],
 "metadata": {
  "kernelspec": {
   "display_name": "Python 3",
   "language": "python",
   "name": "python3"
  },
  "language_info": {
   "codemirror_mode": {
    "name": "ipython",
    "version": 3
   },
   "file_extension": ".py",
   "mimetype": "text/x-python",
   "name": "python",
   "nbconvert_exporter": "python",
   "pygments_lexer": "ipython3",
   "version": "3.6.5"
  }
 },
 "nbformat": 4,
 "nbformat_minor": 2
}

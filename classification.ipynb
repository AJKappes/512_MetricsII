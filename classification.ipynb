{
 "cells": [
  {
   "cell_type": "markdown",
   "metadata": {},
   "source": [
    "Tiana Randriamaro <br>\n",
    "Alex Kappes\n",
    "Econs 514"
   ]
  },
  {
   "cell_type": "markdown",
   "metadata": {},
   "source": [
    "# The data"
   ]
  },
  {
   "cell_type": "markdown",
   "metadata": {},
   "source": [
    "The MNIST database contains 60,000 training images and 10,000 testing images taken from American Census Bureau employees and American high school students. It is separated into two groups as train and test and also separated into the labels and the images. x_train and x_test parts contain greyscale RGB codes (from 0 to 255) while y_train and y_test parts contains labels from 0 to 9 which represents which number they actually are."
   ]
  },
  {
   "cell_type": "code",
   "execution_count": 1,
   "metadata": {},
   "outputs": [
    {
     "name": "stderr",
     "output_type": "stream",
     "text": [
      "/anaconda3/lib/python3.6/site-packages/h5py/__init__.py:36: FutureWarning: Conversion of the second argument of issubdtype from `float` to `np.floating` is deprecated. In future, it will be treated as `np.float64 == np.dtype(float).type`.\n",
      "  from ._conv import register_converters as _register_converters\n"
     ]
    }
   ],
   "source": [
    "import tensorflow as tf\n",
    "(x_train, y_train), (x_test, y_test) = tf.keras.datasets.mnist.load_data()"
   ]
  },
  {
   "cell_type": "markdown",
   "metadata": {},
   "source": [
    "## Dataset shape"
   ]
  },
  {
   "cell_type": "code",
   "execution_count": 2,
   "metadata": {},
   "outputs": [
    {
     "data": {
      "text/plain": [
       "(60000, 28, 28)"
      ]
     },
     "execution_count": 2,
     "metadata": {},
     "output_type": "execute_result"
    }
   ],
   "source": [
    "x_train.shape"
   ]
  },
  {
   "cell_type": "markdown",
   "metadata": {},
   "source": [
    "## Visualizing the data with matplotlib"
   ]
  },
  {
   "cell_type": "code",
   "execution_count": 4,
   "metadata": {},
   "outputs": [
    {
     "name": "stdout",
     "output_type": "stream",
     "text": [
      "1\n"
     ]
    },
    {
     "data": {
      "text/plain": [
       "<matplotlib.image.AxesImage at 0xb276cdcc0>"
      ]
     },
     "execution_count": 4,
     "metadata": {},
     "output_type": "execute_result"
    },
    {
     "data": {
      "image/png": "[encoded data removed]",
      "text/plain": [
       "<Figure size 432x288 with 1 Axes>"
      ]
     },
     "metadata": {},
     "output_type": "display_data"
    }
   ],
   "source": [
    "import matplotlib.pyplot as plt\n",
    "#%matplotlib inline # Only use this if using iPython\n",
    "image_index = 14000 # Ranges from 0 to 60,000\n",
    "print(y_train[image_index]) # The label is 1\n",
    "plt.imshow(x_train[image_index], cmap='Greys')"
   ]
  },
  {
   "cell_type": "markdown",
   "metadata": {},
   "source": [
    "## Reshaping and normalization"
   ]
  },
  {
   "cell_type": "code",
   "execution_count": 5,
   "metadata": {},
   "outputs": [
    {
     "name": "stdout",
     "output_type": "stream",
     "text": [
      "x_train shape: (60000, 28, 28, 1)\n",
      "Number of images in x_train 60000\n",
      "Number of images in x_test 10000\n"
     ]
    }
   ],
   "source": [
    "# Reshaping the array to 4-dims so that it can work with the Keras API\n",
    "x_train = x_train.reshape(x_train.shape[0], 28, 28, 1)\n",
    "x_test = x_test.reshape(x_test.shape[0], 28, 28, 1)\n",
    "input_shape = (28, 28, 1)\n",
    "# The values are float so that we can get decimal points after division\n",
    "x_train = x_train.astype('float32')\n",
    "x_test = x_test.astype('float32')\n",
    "# Normalizing the RGB codes by dividing it to the max RGB value.\n",
    "x_train /= 255\n",
    "x_test /= 255\n",
    "print('x_train shape:', x_train.shape)\n",
    "print('Number of images in x_train', x_train.shape[0])\n",
    "print('Number of images in x_test', x_test.shape[0])"
   ]
  },
  {
   "cell_type": "markdown",
   "metadata": {},
   "source": [
    "## Building the neural network"
   ]
  },
  {
   "cell_type": "code",
   "execution_count": 6,
   "metadata": {},
   "outputs": [
    {
     "name": "stderr",
     "output_type": "stream",
     "text": [
      "Using TensorFlow backend.\n"
     ]
    }
   ],
   "source": [
    "# Importing the required Keras modules containing model and layers\n",
    "from keras.models import Sequential\n",
    "from keras.layers import Dense, Conv2D, Dropout, Flatten, MaxPooling2D\n",
    "# Creating a Sequential Model and adding the layers\n",
    "model = Sequential()\n",
    "model.add(Conv2D(28, kernel_size=(3,3), input_shape=input_shape))\n",
    "model.add(MaxPooling2D(pool_size=(2, 2)))\n",
    "model.add(Flatten()) # Flattening the 2D arrays for fully connected layers\n",
    "model.add(Dense(128, activation=tf.nn.relu))\n",
    "model.add(Dropout(0.2))\n",
    "model.add(Dense(10,activation=tf.nn.softmax)) # 10 neurons for 10 number classes (0,1,..9)"
   ]
  },
  {
   "cell_type": "code",
   "execution_count": 7,
   "metadata": {},
   "outputs": [
    {
     "name": "stdout",
     "output_type": "stream",
     "text": [
      "Epoch 1/10\n",
      "60000/60000 [==============================] - 147s 2ms/step - loss: 0.2036 - acc: 0.9386\n",
      "Epoch 2/10\n",
      "60000/60000 [==============================] - 131s 2ms/step - loss: 0.0826 - acc: 0.9746\n",
      "Epoch 3/10\n",
      "60000/60000 [==============================] - 113s 2ms/step - loss: 0.0564 - acc: 0.9825\n",
      "Epoch 4/10\n",
      "60000/60000 [==============================] - 141s 2ms/step - loss: 0.0438 - acc: 0.9855\n",
      "Epoch 5/10\n",
      "60000/60000 [==============================] - 127s 2ms/step - loss: 0.0350 - acc: 0.9886\n",
      "Epoch 6/10\n",
      "60000/60000 [==============================] - 136s 2ms/step - loss: 0.0292 - acc: 0.9905\n",
      "Epoch 7/10\n",
      "60000/60000 [==============================] - 117s 2ms/step - loss: 0.0239 - acc: 0.9919\n",
      "Epoch 8/10\n",
      "60000/60000 [==============================] - 103s 2ms/step - loss: 0.0222 - acc: 0.9922\n",
      "Epoch 9/10\n",
      "60000/60000 [==============================] - 142s 2ms/step - loss: 0.0206 - acc: 0.9930\n",
      "Epoch 10/10\n",
      "60000/60000 [==============================] - 117s 2ms/step - loss: 0.0182 - acc: 0.9941\n"
     ]
    },
    {
     "data": {
      "text/plain": [
       "<keras.callbacks.History at 0xb266c7978>"
      ]
     },
     "execution_count": 7,
     "metadata": {},
     "output_type": "execute_result"
    }
   ],
   "source": [
    "# Compiling and fitting the model\n",
    "model.compile(optimizer='adam', \n",
    "              loss='sparse_categorical_crossentropy', \n",
    "              metrics=['accuracy'])\n",
    "model.fit(x=x_train,y=y_train, epochs=5)"
   ]
  },
  {
   "cell_type": "markdown",
   "metadata": {},
   "source": [
    "## Evaluating the model"
   ]
  },
  {
   "cell_type": "code",
   "execution_count": 8,
   "metadata": {},
   "outputs": [
    {
     "name": "stdout",
     "output_type": "stream",
     "text": [
      "10000/10000 [==============================] - 6s 553us/step\n"
     ]
    },
    {
     "data": {
      "text/plain": [
       "[0.06720509715685112, 0.9824]"
      ]
     },
     "execution_count": 8,
     "metadata": {},
     "output_type": "execute_result"
    }
   ],
   "source": [
    "model.evaluate(x_test, y_test)"
   ]
  },
  {
   "cell_type": "markdown",
   "metadata": {},
   "source": [
    "### The model achieves 98.24% accuracy."
   ]
  },
  {
   "cell_type": "code",
   "execution_count": 13,
   "metadata": {
    "scrolled": true
   },
   "outputs": [
    {
     "name": "stdout",
     "output_type": "stream",
     "text": [
      "9\n"
     ]
    },
    {
     "data": {
      "image/png": "[encoded data removed]",
      "text/plain": [
       "<Figure size 432x288 with 1 Axes>"
      ]
     },
     "metadata": {},
     "output_type": "display_data"
    }
   ],
   "source": [
    "image_index = 4444\n",
    "plt.imshow(x_test[image_index].reshape(28, 28),cmap='Greys')\n",
    "pred = model.predict(x_test[image_index].reshape(1, 28, 28, 1))\n",
    "print(pred.argmax())"
   ]
  },
  {
   "cell_type": "markdown",
   "metadata": {},
   "source": [
    "### The model succesfully qualifies the image above as 9."
   ]
  },
  {
   "cell_type": "markdown",
   "metadata": {},
   "source": [
    "# Regression Classfication Tree\n",
    "\n",
    "The code below develops a classification regression tree using root mean squared error as the cost function. Prediction values are printed as final output. Data used for classification is generated and has no real meaning."
   ]
  },
  {
   "cell_type": "code",
   "execution_count": 6,
   "metadata": {},
   "outputs": [
    {
     "name": "stdout",
     "output_type": "stream",
     "text": [
      "Prediction values for test data are: \n",
      " \n",
      " [4.17440313 4.17440313 4.17440313 4.17440313 4.17440313 4.17440313\n",
      " 4.17440313 4.17440313 4.17440313 4.17440313 4.17440313 4.17440313\n",
      " 4.17440313 4.17440313 4.17440313 4.17440313 4.17440313 4.17440313\n",
      " 4.17440313 4.17440313]\n"
     ]
    }
   ],
   "source": [
    "import numpy as np\n",
    "import pandas as pd\n",
    "import scipy.stats as stats\n",
    "\n",
    "###\n",
    "import warnings\n",
    "warnings.filterwarnings('ignore')\n",
    "###\n",
    "\n",
    "#### Classification Tree ####\n",
    "\n",
    "# generate random data instead of loading from /home/ajkappes directory #\n",
    "def vars(j, var):\n",
    "    vars = []\n",
    "    l = 1\n",
    "    for i in range(j):\n",
    "        vars.append(var + str(l))\n",
    "        l += 1\n",
    "    return vars\n",
    "\n",
    "def generate_data(n, indicate, test_split):\n",
    "    alpha = 0.75\n",
    "    X = vars(2, 'x')\n",
    "    df = pd.DataFrame({X[0]: stats.norm.rvs(loc=5, scale=0.75, size=n),\n",
    "                       X[1]: stats.norm.rvs(loc=2, scale=0.25, size=n)})\n",
    "    df['y'] = alpha * df[X[0]] + (1 - alpha) * df[X[1]]\n",
    "    df['y_bin'] = np.where(df['y'] > df['y'].mean(), 1, 0)\n",
    "\n",
    "    train_idx = list(np.random.choice(df.index.tolist(), size=int((1 - test_split) * len(df)), replace=False))\n",
    "    if indicate == 'train':\n",
    "        return df.loc[train_idx]\n",
    "\n",
    "    else:\n",
    "        return df.loc[[idx for idx in df.index if idx not in train_idx]]\n",
    "\n",
    "df_train = generate_data(100,'train', 0.2)\n",
    "X_train = df_train[['x1', 'x2']]\n",
    "y_train = df_train['y']\n",
    "\n",
    "df_test = generate_data(100, 'test', 0.2)\n",
    "X_test = df_test[['x1', 'x2']]\n",
    "y_test = df_test['y']\n",
    "\n",
    "class node:\n",
    "    def __init__(self, x, y, idx, min_leaf_sample):\n",
    "        self.x = x\n",
    "        self.y = y\n",
    "        self.idx = idx\n",
    "        self.min_leaf_sample = min_leaf_sample\n",
    "        self.cost_init = np.inf\n",
    "\n",
    "    def generate_split(self, x_j):\n",
    "        x = self.x.values[idx, x_j]\n",
    "\n",
    "        for i in range(x.shape[0]):\n",
    "            split_left = x[x <= x[i]]\n",
    "            split_right = x[x > x[i]]\n",
    "\n",
    "            if len(split_left) < self.min_leaf_sample or len(split_right) < self.min_leaf_sample:\n",
    "                continue\n",
    "\n",
    "            cost = self.get_cost(left, right)\n",
    "            if cost < self.cost_init:\n",
    "                self.cost_init = cost\n",
    "                self.x_j = x_j\n",
    "                self.split = x[i]\n",
    "\n",
    "    def get_cost(self, left, right):\n",
    "        left_std = self.y[self.idx][left]\n",
    "        right_std = self.y[self.idx][right]\n",
    "        return left_std * len(split_left) + right_std * len(split_right)\n",
    "\n",
    "    def generate_var_split(self):\n",
    "        for j in range(self.x.shape[1]):\n",
    "            if self.leaf == True:\n",
    "                return\n",
    "            x = self.split_var\n",
    "            left = np.nonzero(x <= self.split)[0]\n",
    "            right = np.nonzero(x > self.split)[0]\n",
    "            self.left = node(self.x, self.y, self.idx[left], self.min_leaf_sample)\n",
    "            self.right = node(self.x, self.y, self.idx[right], self.min_leaf_sample)\n",
    "\n",
    "    @property\n",
    "    def split_var(self):\n",
    "        return self.x.values[self.idx, self.x_j]\n",
    "\n",
    "    @property\n",
    "    def leaf(self):\n",
    "        return self.cost_init == float(np.inf)\n",
    "\n",
    "    def predict_idx(self, x_i):\n",
    "        if self.leaf == True:\n",
    "            return np.mean(self.y[self.idx])\n",
    "\n",
    "        if x_i[self.x_j] <= self.split:\n",
    "            d_node = self.left\n",
    "        else:\n",
    "            d_node = self.right\n",
    "\n",
    "        return d_node.predict_idx(x_i)\n",
    "\n",
    "    def prediction(self, x):\n",
    "        return np.array([self.predict_idx(x_i) for x_i in x])\n",
    "\n",
    "class decision_tree:\n",
    "\n",
    "    def fit(self, x, y, min_leaf_sample):\n",
    "        self.decisiontree = node(x, y, np.arange(len(y)), min_leaf_sample)\n",
    "        return self\n",
    "\n",
    "    def prediction(self, x):\n",
    "        return self.decisiontree.prediction(x.values)\n",
    "\n",
    "\n",
    "d_test_tree = decision_tree().fit(X_test, y_test, min_leaf_sample=10)\n",
    "d_test_tree_predict = d_test_tree.prediction(X_test)\n",
    "\n",
    "print('Prediction values for test data are:', '\\n \\n', d_test_tree_predict)"
   ]
  },
  {
   "cell_type": "markdown",
   "metadata": {},
   "source": [
    "Prediction values correspond to mean leaf values at terminal nodes. They appear to be uniform across the test data set due to data generation following a small interval. "
   ]
  },
  {
   "cell_type": "code",
   "execution_count": 10,
   "metadata": {},
   "outputs": [
    {
     "name": "stdout",
     "output_type": "stream",
     "text": [
      "4.07300949265772\n"
     ]
    }
   ],
   "source": [
    "print(df_test['y'].mean())"
   ]
  },
  {
   "cell_type": "code",
   "execution_count": 11,
   "metadata": {},
   "outputs": [
    {
     "data": {
      "text/html": [
       "<div>\n",
       "<style scoped>\n",
       "    .dataframe tbody tr th:only-of-type {\n",
       "        vertical-align: middle;\n",
       "    }\n",
       "\n",
       "    .dataframe tbody tr th {\n",
       "        vertical-align: top;\n",
       "    }\n",
       "\n",
       "    .dataframe thead th {\n",
       "        text-align: right;\n",
       "    }\n",
       "</style>\n",
       "<table border=\"1\" class=\"dataframe\">\n",
       "  <thead>\n",
       "    <tr style=\"text-align: right;\">\n",
       "      <th></th>\n",
       "      <th>x1</th>\n",
       "      <th>x2</th>\n",
       "      <th>y</th>\n",
       "      <th>y_bin</th>\n",
       "    </tr>\n",
       "  </thead>\n",
       "  <tbody>\n",
       "    <tr>\n",
       "      <th>0</th>\n",
       "      <td>4.500512</td>\n",
       "      <td>1.726770</td>\n",
       "      <td>3.807077</td>\n",
       "      <td>0</td>\n",
       "    </tr>\n",
       "    <tr>\n",
       "      <th>10</th>\n",
       "      <td>4.448824</td>\n",
       "      <td>1.866298</td>\n",
       "      <td>3.803192</td>\n",
       "      <td>0</td>\n",
       "    </tr>\n",
       "    <tr>\n",
       "      <th>11</th>\n",
       "      <td>5.208152</td>\n",
       "      <td>2.346360</td>\n",
       "      <td>4.492704</td>\n",
       "      <td>1</td>\n",
       "    </tr>\n",
       "    <tr>\n",
       "      <th>16</th>\n",
       "      <td>6.170585</td>\n",
       "      <td>2.228855</td>\n",
       "      <td>5.185152</td>\n",
       "      <td>1</td>\n",
       "    </tr>\n",
       "    <tr>\n",
       "      <th>19</th>\n",
       "      <td>4.105588</td>\n",
       "      <td>2.018800</td>\n",
       "      <td>3.583891</td>\n",
       "      <td>0</td>\n",
       "    </tr>\n",
       "    <tr>\n",
       "      <th>20</th>\n",
       "      <td>5.092602</td>\n",
       "      <td>1.968971</td>\n",
       "      <td>4.311695</td>\n",
       "      <td>1</td>\n",
       "    </tr>\n",
       "    <tr>\n",
       "      <th>26</th>\n",
       "      <td>5.053766</td>\n",
       "      <td>2.430680</td>\n",
       "      <td>4.397995</td>\n",
       "      <td>1</td>\n",
       "    </tr>\n",
       "    <tr>\n",
       "      <th>33</th>\n",
       "      <td>6.329394</td>\n",
       "      <td>1.886616</td>\n",
       "      <td>5.218700</td>\n",
       "      <td>1</td>\n",
       "    </tr>\n",
       "    <tr>\n",
       "      <th>34</th>\n",
       "      <td>3.796074</td>\n",
       "      <td>1.601571</td>\n",
       "      <td>3.247448</td>\n",
       "      <td>0</td>\n",
       "    </tr>\n",
       "    <tr>\n",
       "      <th>35</th>\n",
       "      <td>3.290993</td>\n",
       "      <td>2.275941</td>\n",
       "      <td>3.037230</td>\n",
       "      <td>0</td>\n",
       "    </tr>\n",
       "    <tr>\n",
       "      <th>40</th>\n",
       "      <td>4.177595</td>\n",
       "      <td>1.547212</td>\n",
       "      <td>3.519999</td>\n",
       "      <td>0</td>\n",
       "    </tr>\n",
       "    <tr>\n",
       "      <th>42</th>\n",
       "      <td>4.126852</td>\n",
       "      <td>1.834563</td>\n",
       "      <td>3.553780</td>\n",
       "      <td>0</td>\n",
       "    </tr>\n",
       "    <tr>\n",
       "      <th>53</th>\n",
       "      <td>4.543484</td>\n",
       "      <td>1.987311</td>\n",
       "      <td>3.904441</td>\n",
       "      <td>0</td>\n",
       "    </tr>\n",
       "    <tr>\n",
       "      <th>56</th>\n",
       "      <td>3.559892</td>\n",
       "      <td>1.721224</td>\n",
       "      <td>3.100225</td>\n",
       "      <td>0</td>\n",
       "    </tr>\n",
       "    <tr>\n",
       "      <th>58</th>\n",
       "      <td>4.445004</td>\n",
       "      <td>2.418583</td>\n",
       "      <td>3.938399</td>\n",
       "      <td>0</td>\n",
       "    </tr>\n",
       "    <tr>\n",
       "      <th>63</th>\n",
       "      <td>6.355255</td>\n",
       "      <td>2.295372</td>\n",
       "      <td>5.340284</td>\n",
       "      <td>1</td>\n",
       "    </tr>\n",
       "    <tr>\n",
       "      <th>67</th>\n",
       "      <td>4.731910</td>\n",
       "      <td>2.366462</td>\n",
       "      <td>4.140548</td>\n",
       "      <td>0</td>\n",
       "    </tr>\n",
       "    <tr>\n",
       "      <th>86</th>\n",
       "      <td>4.437187</td>\n",
       "      <td>1.813986</td>\n",
       "      <td>3.781387</td>\n",
       "      <td>0</td>\n",
       "    </tr>\n",
       "    <tr>\n",
       "      <th>89</th>\n",
       "      <td>5.211608</td>\n",
       "      <td>1.998965</td>\n",
       "      <td>4.408447</td>\n",
       "      <td>1</td>\n",
       "    </tr>\n",
       "    <tr>\n",
       "      <th>97</th>\n",
       "      <td>5.604124</td>\n",
       "      <td>1.938014</td>\n",
       "      <td>4.687596</td>\n",
       "      <td>1</td>\n",
       "    </tr>\n",
       "  </tbody>\n",
       "</table>\n",
       "</div>"
      ],
      "text/plain": [
       "          x1        x2         y  y_bin\n",
       "0   4.500512  1.726770  3.807077      0\n",
       "10  4.448824  1.866298  3.803192      0\n",
       "11  5.208152  2.346360  4.492704      1\n",
       "16  6.170585  2.228855  5.185152      1\n",
       "19  4.105588  2.018800  3.583891      0\n",
       "20  5.092602  1.968971  4.311695      1\n",
       "26  5.053766  2.430680  4.397995      1\n",
       "33  6.329394  1.886616  5.218700      1\n",
       "34  3.796074  1.601571  3.247448      0\n",
       "35  3.290993  2.275941  3.037230      0\n",
       "40  4.177595  1.547212  3.519999      0\n",
       "42  4.126852  1.834563  3.553780      0\n",
       "53  4.543484  1.987311  3.904441      0\n",
       "56  3.559892  1.721224  3.100225      0\n",
       "58  4.445004  2.418583  3.938399      0\n",
       "63  6.355255  2.295372  5.340284      1\n",
       "67  4.731910  2.366462  4.140548      0\n",
       "86  4.437187  1.813986  3.781387      0\n",
       "89  5.211608  1.998965  4.408447      1\n",
       "97  5.604124  1.938014  4.687596      1"
      ]
     },
     "execution_count": 11,
     "metadata": {},
     "output_type": "execute_result"
    }
   ],
   "source": [
    "df_test"
   ]
  }
 ],
 "metadata": {
  "kernelspec": {
   "display_name": "Python 3",
   "language": "python",
   "name": "python3"
  },
  "language_info": {
   "codemirror_mode": {
    "name": "ipython",
    "version": 3
   },
   "file_extension": ".py",
   "mimetype": "text/x-python",
   "name": "python",
   "nbconvert_exporter": "python",
   "pygments_lexer": "ipython3",
   "version": "3.7.1"
  }
 },
 "nbformat": 4,
 "nbformat_minor": 2
}
